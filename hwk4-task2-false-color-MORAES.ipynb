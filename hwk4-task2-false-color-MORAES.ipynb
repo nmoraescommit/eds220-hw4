{
 "cells": [
  {
   "cell_type": "markdown",
   "id": "f45b5bc4-c791-4173-8b7a-21790f1f7f64",
   "metadata": {},
   "source": [
    "# Geospatial Visualization"
   ]
  },
  {
   "cell_type": "markdown",
   "id": "62661eb1-5cb5-4e76-b8b2-ccecc3083675",
   "metadata": {},
   "source": [
    "## Set-Up"
   ]
  },
  {
   "cell_type": "markdown",
   "id": "ead76297-99fd-4fe0-8bab-47e8fc731ba8",
   "metadata": {},
   "source": [
    "### Import Libraries"
   ]
  },
  {
   "cell_type": "code",
   "execution_count": 1,
   "id": "e40ebaeb-6cca-40fc-b7fa-87945b2a449a",
   "metadata": {},
   "outputs": [],
   "source": [
    "# Import relevant libraries\n",
    "import os\n",
    "import numpy as np\n",
    "import matplotlib.pyplot as plt\n",
    "import geopandas as gpd\n",
    "import rioxarray as rioxr\n",
    "import xarray as xr"
   ]
  },
  {
   "cell_type": "markdown",
   "id": "8f51e2de-2b0f-4aa5-9bad-4703873eab39",
   "metadata": {},
   "source": [
    "### Import Data"
   ]
  },
  {
   "cell_type": "code",
   "execution_count": 2,
   "id": "2ae87064-88a7-466f-bbd8-130691b3e7a3",
   "metadata": {},
   "outputs": [],
   "source": [
    "# Set up file paths\n",
    "land_fp = os.path.join('data', 'landsat8-2018-01-26-sb-simplified.nc')\n",
    "thomas_fp = os.path.join('data', 'thomas_fire_boundary.geojson')\n",
    "\n",
    "# Import landsat data\n",
    "landsat = rioxr.open_rasterio(land_fp)\n",
    "\n",
    "# Import Thomas Fire perimeter\n",
    "thomas_fire_perimeter = gpd.read_file(thomas_fp)"
   ]
  },
  {
   "cell_type": "markdown",
   "id": "f20cd962-f142-4ec8-b70a-c9c6fa8b42ad",
   "metadata": {},
   "source": [
    "## Explore Data"
   ]
  },
  {
   "cell_type": "code",
   "execution_count": 4,
   "id": "deb2906f-d3ca-4ce9-9b4c-1f592ede9fdd",
   "metadata": {},
   "outputs": [
    {
     "data": {
      "text/plain": [
       "(5, 1, 731, 870)"
      ]
     },
     "execution_count": 4,
     "metadata": {},
     "output_type": "execute_result"
    }
   ],
   "source": [
    "landsat.to_array().shape"
   ]
  },
  {
   "cell_type": "code",
   "execution_count": 5,
   "id": "6a8b1c5e-9ebb-44ff-a5a4-89669e54bb9c",
   "metadata": {},
   "outputs": [
    {
     "data": {
      "text/plain": [
       "Frozen({'y': 731, 'x': 870, 'band': 1})"
      ]
     },
     "execution_count": 5,
     "metadata": {},
     "output_type": "execute_result"
    }
   ],
   "source": [
    "landsat.sizes"
   ]
  },
  {
   "cell_type": "code",
   "execution_count": 6,
   "id": "e7a68de1-e1e1-4653-9c0b-b232cc6af09b",
   "metadata": {},
   "outputs": [
    {
     "data": {
      "text/plain": [
       "Coordinates:\n",
       "  * y            (y) float64 3.952e+06 3.952e+06 ... 3.756e+06 3.755e+06\n",
       "  * x            (x) float64 1.213e+05 1.216e+05 ... 3.557e+05 3.559e+05\n",
       "  * band         (band) int64 1\n",
       "    spatial_ref  int64 0"
      ]
     },
     "execution_count": 6,
     "metadata": {},
     "output_type": "execute_result"
    }
   ],
   "source": [
    "landsat.coords"
   ]
  },
  {
   "cell_type": "code",
   "execution_count": 7,
   "id": "4fa57d44-9953-4772-a530-cb8dd9badd3f",
   "metadata": {},
   "outputs": [
    {
     "data": {
      "text/plain": [
       "Frozen({'y': 731, 'x': 870, 'band': 1})"
      ]
     },
     "execution_count": 7,
     "metadata": {},
     "output_type": "execute_result"
    }
   ],
   "source": [
    "landsat.dims"
   ]
  },
  {
   "cell_type": "code",
   "execution_count": 8,
   "id": "07f8a47f-a8b9-4908-81c5-a6eefd4848ca",
   "metadata": {},
   "outputs": [
    {
     "data": {
      "text/plain": [
       "Frozen({'y': <xarray.IndexVariable 'y' (y: 731)>\n",
       "array([3952395., 3952125., 3951855., ..., 3755835., 3755565., 3755295.])\n",
       "Attributes:\n",
       "    axis:           Y\n",
       "    crs:            EPSG:32611\n",
       "    long_name:      y coordinate of projection\n",
       "    resolution:     -30\n",
       "    standard_name:  projection_y_coordinate\n",
       "    units:          metre\n",
       "    _FillValue:     nan, 'x': <xarray.IndexVariable 'x' (x: 870)>\n",
       "array([121305., 121575., 121845., ..., 355395., 355665., 355935.])\n",
       "Attributes:\n",
       "    axis:           X\n",
       "    crs:            EPSG:32611\n",
       "    long_name:      x coordinate of projection\n",
       "    resolution:     30\n",
       "    standard_name:  projection_x_coordinate\n",
       "    units:          metre\n",
       "    _FillValue:     nan, 'band': <xarray.IndexVariable 'band' (band: 1)>\n",
       "array([1]), 'spatial_ref': <xarray.Variable ()>\n",
       "array(0)\n",
       "Attributes:\n",
       "    crs_wkt:                           PROJCS[\"WGS 84 / UTM zone 11N\",GEOGCS[...\n",
       "    semi_major_axis:                   6378137.0\n",
       "    semi_minor_axis:                   6356752.314245179\n",
       "    inverse_flattening:                298.257223563\n",
       "    reference_ellipsoid_name:          WGS 84\n",
       "    longitude_of_prime_meridian:       0.0\n",
       "    prime_meridian_name:               Greenwich\n",
       "    geographic_crs_name:               WGS 84\n",
       "    horizontal_datum_name:             World Geodetic System 1984\n",
       "    projected_crs_name:                WGS 84 / UTM zone 11N\n",
       "    grid_mapping_name:                 transverse_mercator\n",
       "    latitude_of_projection_origin:     0.0\n",
       "    longitude_of_central_meridian:     -117.0\n",
       "    false_easting:                     500000.0\n",
       "    false_northing:                    0.0\n",
       "    scale_factor_at_central_meridian:  0.9996\n",
       "    spatial_ref:                       PROJCS[\"WGS 84 / UTM zone 11N\",GEOGCS[...\n",
       "    GeoTransform:                      121170.0 270.0 0.0 3952530.0 0.0 -270.0, 'red': <xarray.Variable (band: 1, y: 731, x: 870)>\n",
       "array([[[0., 0., ..., 0., 0.],\n",
       "        [0., 0., ..., 0., 0.],\n",
       "        ...,\n",
       "        [0., 0., ..., 0., 0.],\n",
       "        [0., 0., ..., 0., 0.]]])\n",
       "Attributes:\n",
       "    add_offset:    0.0\n",
       "    coordinates:   time\n",
       "    scale_factor:  1.0\n",
       "    _FillValue:    0.0, 'green': <xarray.Variable (band: 1, y: 731, x: 870)>\n",
       "array([[[0., 0., ..., 0., 0.],\n",
       "        [0., 0., ..., 0., 0.],\n",
       "        ...,\n",
       "        [0., 0., ..., 0., 0.],\n",
       "        [0., 0., ..., 0., 0.]]])\n",
       "Attributes:\n",
       "    add_offset:    0.0\n",
       "    coordinates:   time\n",
       "    scale_factor:  1.0\n",
       "    _FillValue:    0.0, 'blue': <xarray.Variable (band: 1, y: 731, x: 870)>\n",
       "array([[[0., 0., ..., 0., 0.],\n",
       "        [0., 0., ..., 0., 0.],\n",
       "        ...,\n",
       "        [0., 0., ..., 0., 0.],\n",
       "        [0., 0., ..., 0., 0.]]])\n",
       "Attributes:\n",
       "    add_offset:    0.0\n",
       "    coordinates:   time\n",
       "    scale_factor:  1.0\n",
       "    _FillValue:    0.0, 'nir08': <xarray.Variable (band: 1, y: 731, x: 870)>\n",
       "array([[[0., 0., ..., 0., 0.],\n",
       "        [0., 0., ..., 0., 0.],\n",
       "        ...,\n",
       "        [0., 0., ..., 0., 0.],\n",
       "        [0., 0., ..., 0., 0.]]])\n",
       "Attributes:\n",
       "    add_offset:    0.0\n",
       "    coordinates:   time\n",
       "    scale_factor:  1.0\n",
       "    _FillValue:    0.0, 'swir22': <xarray.Variable (band: 1, y: 731, x: 870)>\n",
       "array([[[0., 0., ..., 0., 0.],\n",
       "        [0., 0., ..., 0., 0.],\n",
       "        ...,\n",
       "        [0., 0., ..., 0., 0.],\n",
       "        [0., 0., ..., 0., 0.]]])\n",
       "Attributes:\n",
       "    add_offset:    0.0\n",
       "    coordinates:   time\n",
       "    scale_factor:  1.0\n",
       "    _FillValue:    0.0})"
      ]
     },
     "execution_count": 8,
     "metadata": {},
     "output_type": "execute_result"
    }
   ],
   "source": [
    "landsat.variables"
   ]
  },
  {
   "cell_type": "markdown",
   "id": "4de36b68-01c0-42e9-871b-500faa6c521e",
   "metadata": {},
   "source": [
    "## Clean Data"
   ]
  },
  {
   "cell_type": "code",
   "execution_count": 9,
   "id": "d40409cd-a7de-409c-8360-31ff5ae752bc",
   "metadata": {},
   "outputs": [],
   "source": [
    "# Drop the band dimension of the data\n",
    "landsat = landsat.squeeze()"
   ]
  },
  {
   "cell_type": "code",
   "execution_count": 10,
   "id": "e53a6422-508e-4749-bef7-ddb258726cb8",
   "metadata": {},
   "outputs": [],
   "source": [
    "# Remove coordinates associated to band dimension\n",
    "landsat = landsat.drop_vars('band')"
   ]
  },
  {
   "cell_type": "code",
   "execution_count": 11,
   "id": "ed5da0bc-7fc6-4d25-963f-c02c93b89223",
   "metadata": {},
   "outputs": [
    {
     "name": "stdout",
     "output_type": "stream",
     "text": [
      "Frozen({'y': 731, 'x': 870}) Coordinates:\n",
      "  * y            (y) float64 3.952e+06 3.952e+06 ... 3.756e+06 3.755e+06\n",
      "  * x            (x) float64 1.213e+05 1.216e+05 ... 3.557e+05 3.559e+05\n",
      "    spatial_ref  int64 0\n"
     ]
    }
   ],
   "source": [
    "# Check new landsat dataset\n",
    "print(landsat.dims, landsat.coords)"
   ]
  },
  {
   "cell_type": "code",
   "execution_count": 12,
   "id": "0d2da3ba-acc8-41af-b061-5642b8930773",
   "metadata": {
    "tags": []
   },
   "outputs": [
    {
     "data": {
      "text/plain": [
       "CRS.from_epsg(32611)"
      ]
     },
     "execution_count": 12,
     "metadata": {},
     "output_type": "execute_result"
    }
   ],
   "source": [
    "landsat.rio.crs"
   ]
  }
 ],
 "metadata": {
  "kernelspec": {
   "display_name": "Anaconda 3 (Base)",
   "language": "python",
   "name": "base"
  },
  "language_info": {
   "codemirror_mode": {
    "name": "ipython",
    "version": 3
   },
   "file_extension": ".py",
   "mimetype": "text/x-python",
   "name": "python",
   "nbconvert_exporter": "python",
   "pygments_lexer": "ipython3",
   "version": "3.9.13"
  }
 },
 "nbformat": 4,
 "nbformat_minor": 5
}
