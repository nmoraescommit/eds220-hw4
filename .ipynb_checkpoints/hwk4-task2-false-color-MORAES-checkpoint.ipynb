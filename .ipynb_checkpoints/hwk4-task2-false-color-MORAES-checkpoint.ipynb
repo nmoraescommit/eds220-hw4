{
 "cells": [
  {
   "cell_type": "code",
   "execution_count": null,
   "id": "7bfc5e08-4486-43b4-9ffc-8b7779b83006",
   "metadata": {},
   "outputs": [],
   "source": []
  }
 ],
 "metadata": {
  "kernelspec": {
   "display_name": "Anaconda 3 (Base)",
   "language": "python",
   "name": "base"
  },
  "language_info": {
   "codemirror_mode": {
    "name": "ipython",
    "version": 3
   },
   "file_extension": ".py",
   "mimetype": "text/x-python",
   "name": "python",
   "nbconvert_exporter": "python",
   "pygments_lexer": "ipython3",
   "version": "3.9.13"
  }
 },
 "nbformat": 4,
 "nbformat_minor": 5
}
