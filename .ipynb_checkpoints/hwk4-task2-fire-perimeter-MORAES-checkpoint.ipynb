{
 "cells": [
  {
   "cell_type": "markdown",
   "id": "7aa4d818-daa0-4c89-bb5e-96c9de13a0e9",
   "metadata": {},
   "source": [
    "# Fire perimeter data retrieval and selection"
   ]
  },
  {
   "cell_type": "markdown",
   "id": "b59e7f65-9c80-444d-93f3-6b46a533463d",
   "metadata": {},
   "source": [
    "### Import Libraries"
   ]
  },
  {
   "cell_type": "code",
   "execution_count": null,
   "id": "cdbbb157-4381-4e62-9e8d-43bfa54c6aa7",
   "metadata": {},
   "outputs": [],
   "source": [
    "# Import libraries\n",
    "import os\n",
    "import pandas as pd\n",
    "import geopandas as gpd\n",
    "import numpy as np\n",
    "import matplotlib.pyplot as plt\n",
    "\n",
    "# Display all columns when looking at dataframes\n",
    "pd.set_option(\"display.max.columns\", None)"
   ]
  },
  {
   "cell_type": "markdown",
   "id": "fe8f90f0-1feb-4032-a0ab-ba4d72f73380",
   "metadata": {},
   "source": [
    "### Import Data"
   ]
  },
  {
   "cell_type": "code",
   "execution_count": null,
   "id": "b18f9c85-1ffd-4510-bdfb-77834b4d061d",
   "metadata": {},
   "outputs": [],
   "source": [
    "# Create data filepath\n",
    "fp = os.path.join('data','California_Fire_Perimeters_(all).shp')\n",
    "\n",
    "# Create dataframe for CA fire perimeter shapefile\n",
    "ca_fire_perimeter = gpd.read_file(fp)"
   ]
  },
  {
   "cell_type": "markdown",
   "id": "4e4c8544-f946-4843-a978-962252f52217",
   "metadata": {},
   "source": [
    "## Explore Data"
   ]
  },
  {
   "cell_type": "code",
   "execution_count": null,
   "id": "30f6ca9d-c65b-4f33-a247-876649bc4b97",
   "metadata": {},
   "outputs": [],
   "source": [
    "# Check dataframe head\n",
    "ca_fire_perimeter.head(3)"
   ]
  },
  {
   "cell_type": "code",
   "execution_count": null,
   "id": "41d3a133-06cc-44d5-8d34-619cc1e0e405",
   "metadata": {},
   "outputs": [],
   "source": [
    "# Check dataframe tail\n",
    "ca_fire_perimeter.tail(3)"
   ]
  },
  {
   "cell_type": "code",
   "execution_count": null,
   "id": "f2a56e08-014b-411e-b185-07d6f361aba4",
   "metadata": {},
   "outputs": [],
   "source": [
    "# Check columns\n",
    "ca_fire_perimeter.columns"
   ]
  },
  {
   "cell_type": "code",
   "execution_count": null,
   "id": "577c6be7-c68a-4846-b684-0dad00d506cd",
   "metadata": {},
   "outputs": [],
   "source": [
    "# Check column datatypes\n",
    "ca_fire_perimeter.dtypes"
   ]
  },
  {
   "cell_type": "code",
   "execution_count": null,
   "id": "c3dad9d7-8103-4325-a19b-9b2539426cce",
   "metadata": {},
   "outputs": [],
   "source": [
    "# Check CRS - and type\n",
    "ca_fire_perimeter.crs"
   ]
  },
  {
   "cell_type": "markdown",
   "id": "3de1e0ad-3145-4699-8bdc-12082fc48f49",
   "metadata": {},
   "source": [
    "### Clean Data"
   ]
  },
  {
   "cell_type": "code",
   "execution_count": null,
   "id": "6244001f-4a1a-485b-8a07-e632209f50a6",
   "metadata": {},
   "outputs": [],
   "source": [
    "# Simplify column names by replacing spaces and no capitilization\n",
    "ca_fire_perimeter.columns = (ca_fire_perimeter.columns\n",
    "                  .str.lower()\n",
    "                  .str.replace(' ','_')\n",
    "                )\n",
    "\n",
    "# Make dates into DateTime object\n",
    "ca_fire_perimeter.alarm_date = pd.to_datetime(ca_fire_perimeter.alarm_date)\n",
    "ca_fire_perimeter.cont_date = pd.to_datetime(ca_fire_perimeter.cont_date)"
   ]
  }
 ],
 "metadata": {
  "kernelspec": {
   "display_name": "Anaconda 3 (Base)",
   "language": "python",
   "name": "base"
  },
  "language_info": {
   "codemirror_mode": {
    "name": "ipython",
    "version": 3
   },
   "file_extension": ".py",
   "mimetype": "text/x-python",
   "name": "python",
   "nbconvert_exporter": "python",
   "pygments_lexer": "ipython3",
   "version": "3.9.13"
  }
 },
 "nbformat": 4,
 "nbformat_minor": 5
}
