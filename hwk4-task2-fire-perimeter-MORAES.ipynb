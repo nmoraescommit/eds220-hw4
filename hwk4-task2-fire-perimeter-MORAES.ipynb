{
 "cells": [
  {
   "cell_type": "markdown",
   "id": "7aa4d818-daa0-4c89-bb5e-96c9de13a0e9",
   "metadata": {},
   "source": [
    "# Fire perimeter data retrieval and selection\n",
    "\n",
    "#### Author: Naomi Moraes\n",
    "#### Link: https://github.com/nmoraescommit/eds220-hw4/tree/main"
   ]
  },
  {
   "cell_type": "markdown",
   "id": "339ff938-1326-420d-8d82-b849d679a309",
   "metadata": {},
   "source": [
    "## About\n",
    "- Purpose: The purpose of this notebook is to explore, clean, and analyze the California fire perimeter shapefile, published by CAL FIRE. This is to obtain the Thomas Fire perimeter boundary for use in \"hwk4-task2-false-color-MORAES\".\n",
    "- Highlights: Working with this dataset was illuminating in looking at how state agencies store fire data and the aspects state agecies deem important to record, the fact that there is a start and end date to the observations, as well as learning how to store updated shape files. I consider the practice in setting up an entirely new project from scratch to be quite valuable, along with the process of independantly learning to access data for a continous workflow, important.\n",
    "- About the data: This dataset was published and maintained by CAL FIRE, but accessed through Data.gov.  The statewide fire history geospatial dataset is updated annually from the previous fire season, during spring, from units across the state and cooperating agencies. The first version was released in May 2015 - according the the CalFire site.\n",
    "- References: \n",
    "    - Fire perimeter data: Publisher CAL FIRE. (2024, May 14). State of California - california fire perimeters (all). Catalog. https://catalog.data.gov/dataset/california-fire-perimeters-all-b3436 \n",
    "    - Assignment Reference and Cleaned Landsat Data Access : Galaz-Garcia, C. (n.d.). Assignment 4. assignment4 – EDS 220 - Working with Environmental Datasets. https://meds-eds-220.github.io/MEDS-eds-220-course/assignments/assignment4.html "
   ]
  },
  {
   "cell_type": "markdown",
   "id": "9a044117-2da3-4d53-b975-d1f9fb0b25a6",
   "metadata": {},
   "source": [
    "## Set-Up"
   ]
  },
  {
   "cell_type": "markdown",
   "id": "517f12e4-894d-4d28-86f8-d318d1ff5d19",
   "metadata": {},
   "source": [
    "In this section we will import the appropriate libraries and data to complete this workbook."
   ]
  },
  {
   "cell_type": "markdown",
   "id": "b59e7f65-9c80-444d-93f3-6b46a533463d",
   "metadata": {},
   "source": [
    "### Import Libraries"
   ]
  },
  {
   "cell_type": "code",
   "execution_count": 1,
   "id": "cdbbb157-4381-4e62-9e8d-43bfa54c6aa7",
   "metadata": {},
   "outputs": [],
   "source": [
    "# Import libraries\n",
    "import os\n",
    "import pandas as pd\n",
    "import geopandas as gpd\n",
    "\n",
    "# Display all columns when looking at dataframes\n",
    "pd.set_option(\"display.max.columns\", None)"
   ]
  },
  {
   "cell_type": "markdown",
   "id": "fe8f90f0-1feb-4032-a0ab-ba4d72f73380",
   "metadata": {},
   "source": [
    "### Import Data"
   ]
  },
  {
   "cell_type": "code",
   "execution_count": 12,
   "id": "b18f9c85-1ffd-4510-bdfb-77834b4d061d",
   "metadata": {},
   "outputs": [],
   "source": [
    "# Create data filepath\n",
    "fp = os.path.join('data','California_Fire_Perimeters_(all).shp')\n",
    "\n",
    "# Create dataframe for CA fire perimeter shapefile\n",
    "ca_fire_perimeter = gpd.read_file(fp)"
   ]
  },
  {
   "cell_type": "markdown",
   "id": "4e4c8544-f946-4843-a978-962252f52217",
   "metadata": {},
   "source": [
    "## Explore Data"
   ]
  },
  {
   "cell_type": "markdown",
   "id": "ba5f2944-3d29-4189-818c-59a3cd1d25fc",
   "metadata": {},
   "source": [
    "In this section we will take a preliminary look at the imported fire perimeter data - in order to understand how to extract the Thomas Fire perimenter data."
   ]
  },
  {
   "cell_type": "code",
   "execution_count": 3,
   "id": "30f6ca9d-c65b-4f33-a247-876649bc4b97",
   "metadata": {},
   "outputs": [
    {
     "data": {
      "text/html": [
       "<div>\n",
       "<style scoped>\n",
       "    .dataframe tbody tr th:only-of-type {\n",
       "        vertical-align: middle;\n",
       "    }\n",
       "\n",
       "    .dataframe tbody tr th {\n",
       "        vertical-align: top;\n",
       "    }\n",
       "\n",
       "    .dataframe thead th {\n",
       "        text-align: right;\n",
       "    }\n",
       "</style>\n",
       "<table border=\"1\" class=\"dataframe\">\n",
       "  <thead>\n",
       "    <tr style=\"text-align: right;\">\n",
       "      <th></th>\n",
       "      <th>YEAR_</th>\n",
       "      <th>STATE</th>\n",
       "      <th>AGENCY</th>\n",
       "      <th>UNIT_ID</th>\n",
       "      <th>FIRE_NAME</th>\n",
       "      <th>INC_NUM</th>\n",
       "      <th>ALARM_DATE</th>\n",
       "      <th>CONT_DATE</th>\n",
       "      <th>CAUSE</th>\n",
       "      <th>C_METHOD</th>\n",
       "      <th>OBJECTIVE</th>\n",
       "      <th>GIS_ACRES</th>\n",
       "      <th>COMMENTS</th>\n",
       "      <th>COMPLEX_NA</th>\n",
       "      <th>IRWINID</th>\n",
       "      <th>FIRE_NUM</th>\n",
       "      <th>COMPLEX_ID</th>\n",
       "      <th>DECADES</th>\n",
       "      <th>geometry</th>\n",
       "    </tr>\n",
       "  </thead>\n",
       "  <tbody>\n",
       "    <tr>\n",
       "      <th>0</th>\n",
       "      <td>2023</td>\n",
       "      <td>CA</td>\n",
       "      <td>CDF</td>\n",
       "      <td>SKU</td>\n",
       "      <td>WHITWORTH</td>\n",
       "      <td>00004808</td>\n",
       "      <td>2023-06-17</td>\n",
       "      <td>2023-06-17</td>\n",
       "      <td>5</td>\n",
       "      <td>1</td>\n",
       "      <td>1</td>\n",
       "      <td>5.72913</td>\n",
       "      <td>None</td>\n",
       "      <td>None</td>\n",
       "      <td>{7985848C-0AC2-4BA4-8F0E-29F778652E61}</td>\n",
       "      <td>None</td>\n",
       "      <td>None</td>\n",
       "      <td>2020</td>\n",
       "      <td>POLYGON ((-13682443.000 5091132.739, -13682445...</td>\n",
       "    </tr>\n",
       "    <tr>\n",
       "      <th>1</th>\n",
       "      <td>2023</td>\n",
       "      <td>CA</td>\n",
       "      <td>LRA</td>\n",
       "      <td>BTU</td>\n",
       "      <td>KAISER</td>\n",
       "      <td>00010225</td>\n",
       "      <td>2023-06-02</td>\n",
       "      <td>2023-06-02</td>\n",
       "      <td>5</td>\n",
       "      <td>1</td>\n",
       "      <td>1</td>\n",
       "      <td>13.60240</td>\n",
       "      <td>None</td>\n",
       "      <td>None</td>\n",
       "      <td>{43EBCC88-B3AC-48EB-8EF5-417FE0939CCF}</td>\n",
       "      <td>None</td>\n",
       "      <td>None</td>\n",
       "      <td>2020</td>\n",
       "      <td>POLYGON ((-13576727.142 4841226.161, -13576726...</td>\n",
       "    </tr>\n",
       "    <tr>\n",
       "      <th>2</th>\n",
       "      <td>2023</td>\n",
       "      <td>CA</td>\n",
       "      <td>CDF</td>\n",
       "      <td>AEU</td>\n",
       "      <td>JACKSON</td>\n",
       "      <td>00017640</td>\n",
       "      <td>2023-07-01</td>\n",
       "      <td>2023-07-02</td>\n",
       "      <td>2</td>\n",
       "      <td>1</td>\n",
       "      <td>1</td>\n",
       "      <td>27.81450</td>\n",
       "      <td>None</td>\n",
       "      <td>None</td>\n",
       "      <td>{B64E1355-BF1D-441A-95D0-BC1FBB93483B}</td>\n",
       "      <td>None</td>\n",
       "      <td>None</td>\n",
       "      <td>2020</td>\n",
       "      <td>POLYGON ((-13459243.000 4621236.000, -13458968...</td>\n",
       "    </tr>\n",
       "  </tbody>\n",
       "</table>\n",
       "</div>"
      ],
      "text/plain": [
       "   YEAR_ STATE AGENCY UNIT_ID  FIRE_NAME   INC_NUM  ALARM_DATE   CONT_DATE  \\\n",
       "0   2023    CA    CDF     SKU  WHITWORTH  00004808  2023-06-17  2023-06-17   \n",
       "1   2023    CA    LRA     BTU     KAISER  00010225  2023-06-02  2023-06-02   \n",
       "2   2023    CA    CDF     AEU    JACKSON  00017640  2023-07-01  2023-07-02   \n",
       "\n",
       "   CAUSE  C_METHOD  OBJECTIVE  GIS_ACRES COMMENTS COMPLEX_NA  \\\n",
       "0      5         1          1    5.72913     None       None   \n",
       "1      5         1          1   13.60240     None       None   \n",
       "2      2         1          1   27.81450     None       None   \n",
       "\n",
       "                                  IRWINID FIRE_NUM COMPLEX_ID  DECADES  \\\n",
       "0  {7985848C-0AC2-4BA4-8F0E-29F778652E61}     None       None     2020   \n",
       "1  {43EBCC88-B3AC-48EB-8EF5-417FE0939CCF}     None       None     2020   \n",
       "2  {B64E1355-BF1D-441A-95D0-BC1FBB93483B}     None       None     2020   \n",
       "\n",
       "                                            geometry  \n",
       "0  POLYGON ((-13682443.000 5091132.739, -13682445...  \n",
       "1  POLYGON ((-13576727.142 4841226.161, -13576726...  \n",
       "2  POLYGON ((-13459243.000 4621236.000, -13458968...  "
      ]
     },
     "execution_count": 3,
     "metadata": {},
     "output_type": "execute_result"
    }
   ],
   "source": [
    "# Check dataframe head\n",
    "ca_fire_perimeter.head(3)"
   ]
  },
  {
   "cell_type": "code",
   "execution_count": 4,
   "id": "41d3a133-06cc-44d5-8d34-619cc1e0e405",
   "metadata": {},
   "outputs": [
    {
     "data": {
      "text/html": [
       "<div>\n",
       "<style scoped>\n",
       "    .dataframe tbody tr th:only-of-type {\n",
       "        vertical-align: middle;\n",
       "    }\n",
       "\n",
       "    .dataframe tbody tr th {\n",
       "        vertical-align: top;\n",
       "    }\n",
       "\n",
       "    .dataframe thead th {\n",
       "        text-align: right;\n",
       "    }\n",
       "</style>\n",
       "<table border=\"1\" class=\"dataframe\">\n",
       "  <thead>\n",
       "    <tr style=\"text-align: right;\">\n",
       "      <th></th>\n",
       "      <th>YEAR_</th>\n",
       "      <th>STATE</th>\n",
       "      <th>AGENCY</th>\n",
       "      <th>UNIT_ID</th>\n",
       "      <th>FIRE_NAME</th>\n",
       "      <th>INC_NUM</th>\n",
       "      <th>ALARM_DATE</th>\n",
       "      <th>CONT_DATE</th>\n",
       "      <th>CAUSE</th>\n",
       "      <th>C_METHOD</th>\n",
       "      <th>OBJECTIVE</th>\n",
       "      <th>GIS_ACRES</th>\n",
       "      <th>COMMENTS</th>\n",
       "      <th>COMPLEX_NA</th>\n",
       "      <th>IRWINID</th>\n",
       "      <th>FIRE_NUM</th>\n",
       "      <th>COMPLEX_ID</th>\n",
       "      <th>DECADES</th>\n",
       "      <th>geometry</th>\n",
       "    </tr>\n",
       "  </thead>\n",
       "  <tbody>\n",
       "    <tr>\n",
       "      <th>22258</th>\n",
       "      <td>0</td>\n",
       "      <td>CA</td>\n",
       "      <td>CCO</td>\n",
       "      <td>MRN</td>\n",
       "      <td>UKNOWN</td>\n",
       "      <td>None</td>\n",
       "      <td>1899-12-30</td>\n",
       "      <td>1899-12-30</td>\n",
       "      <td>14</td>\n",
       "      <td>6</td>\n",
       "      <td>1</td>\n",
       "      <td>2927.2400</td>\n",
       "      <td>1917-34(Yr Not Report)MarinCo FireChief Garber...</td>\n",
       "      <td>None</td>\n",
       "      <td>None</td>\n",
       "      <td>None</td>\n",
       "      <td>None</td>\n",
       "      <td>0</td>\n",
       "      <td>POLYGON ((-13658666.186 4605853.097, -13658738...</td>\n",
       "    </tr>\n",
       "    <tr>\n",
       "      <th>22259</th>\n",
       "      <td>0</td>\n",
       "      <td>CA</td>\n",
       "      <td>CCO</td>\n",
       "      <td>MRN</td>\n",
       "      <td>UKNOWN</td>\n",
       "      <td>None</td>\n",
       "      <td>1899-12-30</td>\n",
       "      <td>1899-12-30</td>\n",
       "      <td>14</td>\n",
       "      <td>6</td>\n",
       "      <td>1</td>\n",
       "      <td>62.0127</td>\n",
       "      <td>1917-34(Yr Not Report)MarinCo FireChief Garber...</td>\n",
       "      <td>None</td>\n",
       "      <td>None</td>\n",
       "      <td>None</td>\n",
       "      <td>None</td>\n",
       "      <td>0</td>\n",
       "      <td>POLYGON ((-13644249.827 4580277.586, -13644243...</td>\n",
       "    </tr>\n",
       "    <tr>\n",
       "      <th>22260</th>\n",
       "      <td>0</td>\n",
       "      <td>CA</td>\n",
       "      <td>CCO</td>\n",
       "      <td>MRN</td>\n",
       "      <td>UKNOWN</td>\n",
       "      <td>None</td>\n",
       "      <td>1899-12-30</td>\n",
       "      <td>1899-12-30</td>\n",
       "      <td>14</td>\n",
       "      <td>6</td>\n",
       "      <td>1</td>\n",
       "      <td>40.0137</td>\n",
       "      <td>1917-34(Yr Not Report)MarinCo FireChief Garber...</td>\n",
       "      <td>None</td>\n",
       "      <td>None</td>\n",
       "      <td>None</td>\n",
       "      <td>None</td>\n",
       "      <td>0</td>\n",
       "      <td>POLYGON ((-13640708.376 4580839.378, -13640603...</td>\n",
       "    </tr>\n",
       "  </tbody>\n",
       "</table>\n",
       "</div>"
      ],
      "text/plain": [
       "       YEAR_ STATE AGENCY UNIT_ID FIRE_NAME INC_NUM  ALARM_DATE   CONT_DATE  \\\n",
       "22258      0    CA    CCO     MRN    UKNOWN    None  1899-12-30  1899-12-30   \n",
       "22259      0    CA    CCO     MRN    UKNOWN    None  1899-12-30  1899-12-30   \n",
       "22260      0    CA    CCO     MRN    UKNOWN    None  1899-12-30  1899-12-30   \n",
       "\n",
       "       CAUSE  C_METHOD  OBJECTIVE  GIS_ACRES  \\\n",
       "22258     14         6          1  2927.2400   \n",
       "22259     14         6          1    62.0127   \n",
       "22260     14         6          1    40.0137   \n",
       "\n",
       "                                                COMMENTS COMPLEX_NA IRWINID  \\\n",
       "22258  1917-34(Yr Not Report)MarinCo FireChief Garber...       None    None   \n",
       "22259  1917-34(Yr Not Report)MarinCo FireChief Garber...       None    None   \n",
       "22260  1917-34(Yr Not Report)MarinCo FireChief Garber...       None    None   \n",
       "\n",
       "      FIRE_NUM COMPLEX_ID  DECADES  \\\n",
       "22258     None       None        0   \n",
       "22259     None       None        0   \n",
       "22260     None       None        0   \n",
       "\n",
       "                                                geometry  \n",
       "22258  POLYGON ((-13658666.186 4605853.097, -13658738...  \n",
       "22259  POLYGON ((-13644249.827 4580277.586, -13644243...  \n",
       "22260  POLYGON ((-13640708.376 4580839.378, -13640603...  "
      ]
     },
     "execution_count": 4,
     "metadata": {},
     "output_type": "execute_result"
    }
   ],
   "source": [
    "# Check dataframe tail\n",
    "ca_fire_perimeter.tail(3)"
   ]
  },
  {
   "cell_type": "code",
   "execution_count": 5,
   "id": "f2a56e08-014b-411e-b185-07d6f361aba4",
   "metadata": {},
   "outputs": [
    {
     "data": {
      "text/plain": [
       "Index(['YEAR_', 'STATE', 'AGENCY', 'UNIT_ID', 'FIRE_NAME', 'INC_NUM',\n",
       "       'ALARM_DATE', 'CONT_DATE', 'CAUSE', 'C_METHOD', 'OBJECTIVE',\n",
       "       'GIS_ACRES', 'COMMENTS', 'COMPLEX_NA', 'IRWINID', 'FIRE_NUM',\n",
       "       'COMPLEX_ID', 'DECADES', 'geometry'],\n",
       "      dtype='object')"
      ]
     },
     "execution_count": 5,
     "metadata": {},
     "output_type": "execute_result"
    }
   ],
   "source": [
    "# Check columns\n",
    "ca_fire_perimeter.columns"
   ]
  },
  {
   "cell_type": "code",
   "execution_count": 6,
   "id": "577c6be7-c68a-4846-b684-0dad00d506cd",
   "metadata": {},
   "outputs": [
    {
     "data": {
      "text/plain": [
       "YEAR_            int64\n",
       "STATE           object\n",
       "AGENCY          object\n",
       "UNIT_ID         object\n",
       "FIRE_NAME       object\n",
       "INC_NUM         object\n",
       "ALARM_DATE      object\n",
       "CONT_DATE       object\n",
       "CAUSE            int64\n",
       "C_METHOD         int64\n",
       "OBJECTIVE        int64\n",
       "GIS_ACRES      float64\n",
       "COMMENTS        object\n",
       "COMPLEX_NA      object\n",
       "IRWINID         object\n",
       "FIRE_NUM        object\n",
       "COMPLEX_ID      object\n",
       "DECADES          int64\n",
       "geometry      geometry\n",
       "dtype: object"
      ]
     },
     "execution_count": 6,
     "metadata": {},
     "output_type": "execute_result"
    }
   ],
   "source": [
    "# Check column datatypes\n",
    "ca_fire_perimeter.dtypes"
   ]
  },
  {
   "cell_type": "code",
   "execution_count": 7,
   "id": "c3dad9d7-8103-4325-a19b-9b2539426cce",
   "metadata": {},
   "outputs": [
    {
     "data": {
      "text/plain": [
       "<Projected CRS: EPSG:3857>\n",
       "Name: WGS 84 / Pseudo-Mercator\n",
       "Axis Info [cartesian]:\n",
       "- X[east]: Easting (metre)\n",
       "- Y[north]: Northing (metre)\n",
       "Area of Use:\n",
       "- name: World between 85.06°S and 85.06°N.\n",
       "- bounds: (-180.0, -85.06, 180.0, 85.06)\n",
       "Coordinate Operation:\n",
       "- name: Popular Visualisation Pseudo-Mercator\n",
       "- method: Popular Visualisation Pseudo Mercator\n",
       "Datum: World Geodetic System 1984 ensemble\n",
       "- Ellipsoid: WGS 84\n",
       "- Prime Meridian: Greenwich"
      ]
     },
     "execution_count": 7,
     "metadata": {},
     "output_type": "execute_result"
    }
   ],
   "source": [
    "# Check CRS - and type\n",
    "ca_fire_perimeter.crs"
   ]
  },
  {
   "cell_type": "markdown",
   "id": "5c637dda-27f5-4507-9e97-cf0f63e7aae0",
   "metadata": {},
   "source": [
    "### Data Exploration Analysis"
   ]
  },
  {
   "cell_type": "markdown",
   "id": "f932a9f3-427a-4b0f-aacf-5847d1ae4819",
   "metadata": {},
   "source": [
    "After the exploration of the California perimeter shape file, imported into this notebook, I see that is has 22,260 fire perimeter observations with columns for varied descriptive markers including: year, fire name, alarm date, and geometery. I observe that some of the column data types int64 and float64, however, I may want to change the date columns into datetime objects for manipulation. The CRS of this shapefile is a projected coordinate reference system, EPSG: 3857 and is a popular crs for web mapping services."
   ]
  },
  {
   "cell_type": "markdown",
   "id": "3de1e0ad-3145-4699-8bdc-12082fc48f49",
   "metadata": {},
   "source": [
    "## Clean Data"
   ]
  },
  {
   "cell_type": "markdown",
   "id": "4050f583-c1c5-440f-827b-f9a3069fbf55",
   "metadata": {},
   "source": [
    "In this section, I will convert the column names to a lower snake case, as well as the date columns to DateTime objects - for ease of future data manipulation."
   ]
  },
  {
   "cell_type": "code",
   "execution_count": 8,
   "id": "6244001f-4a1a-485b-8a07-e632209f50a6",
   "metadata": {},
   "outputs": [],
   "source": [
    "# Simplify column names by replacing spaces and no capitilization\n",
    "ca_fire_perimeter.columns = (ca_fire_perimeter.columns\n",
    "                  .str.lower()\n",
    "                  .str.replace(' ','_')\n",
    "                )\n",
    "\n",
    "# Make dates into DateTime object\n",
    "ca_fire_perimeter.alarm_date = pd.to_datetime(ca_fire_perimeter.alarm_date)\n",
    "ca_fire_perimeter.cont_date = pd.to_datetime(ca_fire_perimeter.cont_date)"
   ]
  },
  {
   "cell_type": "markdown",
   "id": "a52fc3d6-8c50-4322-9f8c-776ff46fc577",
   "metadata": {},
   "source": [
    "## Thomas Fire Boundary"
   ]
  },
  {
   "cell_type": "markdown",
   "id": "385f2104-9d85-4441-bb9a-18a4f5ecc80f",
   "metadata": {},
   "source": [
    "Here, I will select for the Thomas Fire Boundary (2017), and save it as a new geospatial file."
   ]
  },
  {
   "cell_type": "code",
   "execution_count": 9,
   "id": "1e1fa202-8013-48d6-8a9d-37a5a79d5b7d",
   "metadata": {},
   "outputs": [],
   "source": [
    "# Select Thomas Fire in 2017\n",
    "thomas_fire_boundary = ca_fire_perimeter[(ca_fire_perimeter['alarm_date'] > '2016-12-31') & \n",
    "                                         (ca_fire_perimeter['alarm_date'] < '2018-01-01') &\n",
    "                                         (ca_fire_perimeter['fire_name'] == 'THOMAS')]"
   ]
  },
  {
   "cell_type": "code",
   "execution_count": 10,
   "id": "63ac4da9-bbd2-44c9-a328-ef9861917176",
   "metadata": {},
   "outputs": [
    {
     "data": {
      "text/html": [
       "<div>\n",
       "<style scoped>\n",
       "    .dataframe tbody tr th:only-of-type {\n",
       "        vertical-align: middle;\n",
       "    }\n",
       "\n",
       "    .dataframe tbody tr th {\n",
       "        vertical-align: top;\n",
       "    }\n",
       "\n",
       "    .dataframe thead th {\n",
       "        text-align: right;\n",
       "    }\n",
       "</style>\n",
       "<table border=\"1\" class=\"dataframe\">\n",
       "  <thead>\n",
       "    <tr style=\"text-align: right;\">\n",
       "      <th></th>\n",
       "      <th>year_</th>\n",
       "      <th>state</th>\n",
       "      <th>agency</th>\n",
       "      <th>unit_id</th>\n",
       "      <th>fire_name</th>\n",
       "      <th>inc_num</th>\n",
       "      <th>alarm_date</th>\n",
       "      <th>cont_date</th>\n",
       "      <th>cause</th>\n",
       "      <th>c_method</th>\n",
       "      <th>objective</th>\n",
       "      <th>gis_acres</th>\n",
       "      <th>comments</th>\n",
       "      <th>complex_na</th>\n",
       "      <th>irwinid</th>\n",
       "      <th>fire_num</th>\n",
       "      <th>complex_id</th>\n",
       "      <th>decades</th>\n",
       "      <th>geometry</th>\n",
       "    </tr>\n",
       "  </thead>\n",
       "  <tbody>\n",
       "    <tr>\n",
       "      <th>2654</th>\n",
       "      <td>2017</td>\n",
       "      <td>CA</td>\n",
       "      <td>USF</td>\n",
       "      <td>VNC</td>\n",
       "      <td>THOMAS</td>\n",
       "      <td>00003583</td>\n",
       "      <td>2017-12-04</td>\n",
       "      <td>2018-01-12</td>\n",
       "      <td>9</td>\n",
       "      <td>7</td>\n",
       "      <td>1</td>\n",
       "      <td>281791.0</td>\n",
       "      <td>CONT_DATE based on Inciweb</td>\n",
       "      <td>None</td>\n",
       "      <td>None</td>\n",
       "      <td>None</td>\n",
       "      <td>None</td>\n",
       "      <td>2010</td>\n",
       "      <td>MULTIPOLYGON (((-13316089.016 4088553.040, -13...</td>\n",
       "    </tr>\n",
       "  </tbody>\n",
       "</table>\n",
       "</div>"
      ],
      "text/plain": [
       "      year_ state agency unit_id fire_name   inc_num alarm_date  cont_date  \\\n",
       "2654   2017    CA    USF     VNC    THOMAS  00003583 2017-12-04 2018-01-12   \n",
       "\n",
       "      cause  c_method  objective  gis_acres                    comments  \\\n",
       "2654      9         7          1   281791.0  CONT_DATE based on Inciweb   \n",
       "\n",
       "     complex_na irwinid fire_num complex_id  decades  \\\n",
       "2654       None    None     None       None     2010   \n",
       "\n",
       "                                               geometry  \n",
       "2654  MULTIPOLYGON (((-13316089.016 4088553.040, -13...  "
      ]
     },
     "execution_count": 10,
     "metadata": {},
     "output_type": "execute_result"
    }
   ],
   "source": [
    "# View dataframe\n",
    "thomas_fire_boundary"
   ]
  },
  {
   "cell_type": "code",
   "execution_count": 11,
   "id": "95207b77-1c45-4537-9d85-e5bd872df08c",
   "metadata": {},
   "outputs": [],
   "source": [
    "# Save dataframe as geospatial file in /data folder\n",
    "thomas_fire_boundary.to_file('data/thomas_fire_boundary.geojson', driver = 'GeoJSON')"
   ]
  },
  {
   "cell_type": "markdown",
   "id": "b322e1c5-0807-4e0d-999f-9e497d185344",
   "metadata": {},
   "source": [
    "### File Shape Explanation"
   ]
  },
  {
   "cell_type": "markdown",
   "id": "24b4f6cd-3f42-4422-9d9f-fb7b6e379378",
   "metadata": {},
   "source": [
    "I chose to convert the alarm_date and cont_date variables into DateTime objects, and wanted them to retain that data type. As I would need to convert DateTime objects back into strings to save as shapefile, I chose to store the new data frame as a GeoJSON file."
   ]
  }
 ],
 "metadata": {
  "kernelspec": {
   "display_name": "Anaconda 3 (Base)",
   "language": "python",
   "name": "base"
  },
  "language_info": {
   "codemirror_mode": {
    "name": "ipython",
    "version": 3
   },
   "file_extension": ".py",
   "mimetype": "text/x-python",
   "name": "python",
   "nbconvert_exporter": "python",
   "pygments_lexer": "ipython3",
   "version": "3.9.13"
  }
 },
 "nbformat": 4,
 "nbformat_minor": 5
}
